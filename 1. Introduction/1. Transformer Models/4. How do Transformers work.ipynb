{
 "cells": [
  {
   "cell_type": "code",
   "execution_count": 4,
   "metadata": {},
   "outputs": [],
   "source": [
    "import torch\n",
    "import torch.nn as nn\n",
    "\n",
    "single_data_point_vector   = torch.randn(100)\n",
    "million_data_point_vectors = torch.randn(1000000,100)\n",
    "\n",
    "encoder_of_information_into_condensed_dim = torch.nn.Sequential(\n",
    "    nn.Linear(out_features = 64 , in_features = 100),\n",
    "    nn.Linear(out_features = 32 , in_features = 64),\n",
    "    nn.Linear(out_features = 16 , in_features = 32),\n",
    "    nn.Linear(out_features = 8  , in_features = 16)\n",
    ")"
   ]
  },
  {
   "cell_type": "code",
   "execution_count": 8,
   "metadata": {},
   "outputs": [
    {
     "name": "stdout",
     "output_type": "stream",
     "text": [
      "input data shape -> torch.Size([100])\n",
      "output of first layer shape -> torch.Size([256])\n"
     ]
    }
   ],
   "source": [
    "layer = nn.Linear(out_features = 256, in_features = 100)\n",
    "print(f\"input data shape -> {single_data_point_vector.shape}\")\n",
    "print(f\"output of first layer shape -> {layer.forward(single_data_point_vector).shape}\")"
   ]
  },
  {
   "cell_type": "code",
   "execution_count": null,
   "metadata": {},
   "outputs": [],
   "source": [
    "decoder_from_condensed_to_original_dim = torch.nn.Sequential(\n",
    "    nn.Linear(out_features = 16 , in_features = 8),\n",
    "    nn.Linear(out_features = 32 , in_features = 16),\n",
    "    nn.Linear(out_features = 64 , in_features = 32),\n",
    "    nn.Linear(out_features = 100 , in_features = 64),\n",
    ")"
   ]
  },
  {
   "cell_type": "code",
   "execution_count": null,
   "metadata": {},
   "outputs": [],
   "source": []
  }
 ],
 "metadata": {
  "kernelspec": {
   "display_name": "base",
   "language": "python",
   "name": "python3"
  },
  "language_info": {
   "codemirror_mode": {
    "name": "ipython",
    "version": 3
   },
   "file_extension": ".py",
   "mimetype": "text/x-python",
   "name": "python",
   "nbconvert_exporter": "python",
   "pygments_lexer": "ipython3",
   "version": "3.11.5"
  }
 },
 "nbformat": 4,
 "nbformat_minor": 2
}
