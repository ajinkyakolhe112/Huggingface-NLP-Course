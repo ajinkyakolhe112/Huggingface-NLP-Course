{
 "cells": [
  {
   "cell_type": "markdown",
   "metadata": {},
   "source": [
    "## tokenize(), convert_tokens_to_ids(), decode()"
   ]
  },
  {
   "cell_type": "code",
   "execution_count": 8,
   "metadata": {},
   "outputs": [
    {
     "data": {
      "text/plain": [
       "(['run', 'chocolate', '##s', 'at', 'desk'],\n",
       " [1576, 8888, 1116, 1120, 3917],\n",
       " 'run chocolates at desk')"
      ]
     },
     "execution_count": 8,
     "metadata": {},
     "output_type": "execute_result"
    }
   ],
   "source": [
    "import transformers\n",
    "\n",
    "# tokenizer = transformers.BertTokenizer.from_pretrained(\"bert-base-cased\")\n",
    "tokenizer = transformers.AutoTokenizer.from_pretrained(\"bert-base-cased\")\n",
    "\n",
    "# tokenizer.save_pretrained(\"directory_on_my_computer\")\n",
    "\n",
    "english_sentences_human_readable    = [ \n",
    "                                        \"run chocolates at desk\",      # 10 Words English Sentece\n",
    "                                        \"run fire in fireplace\",     # 10 Words English Sentece\n",
    "                                        \"run fire in house\" ,    # 10 Words English Sentece\n",
    "                                    ]\n",
    "\n",
    "single_sentence = english_sentences_human_readable[0]\n",
    "tokens          = tokenizer.tokenize(single_sentence)\n",
    "numeric_ids     = tokenizer.convert_tokens_to_ids(tokens)\n",
    "\n",
    "decoded_string  = tokenizer.decode(numeric_ids)\n",
    "\n",
    "tokens, numeric_ids, decoded_string"
   ]
  },
  {
   "cell_type": "code",
   "execution_count": 3,
   "metadata": {},
   "outputs": [
    {
     "data": {
      "text/plain": [
       "['run, chocolates are running out now',\n",
       " 'run, there is fire in fireplace',\n",
       " 'run, the fire is spreading fast']"
      ]
     },
     "execution_count": 3,
     "metadata": {},
     "output_type": "execute_result"
    }
   ],
   "source": [
    "tokenizer.tokenize(english_sentences_human_readable)"
   ]
  },
  {
   "cell_type": "markdown",
   "metadata": {},
   "source": [
    "## .tokenize() method vs tokenizer()"
   ]
  },
  {
   "cell_type": "code",
   "execution_count": null,
   "metadata": {},
   "outputs": [],
   "source": []
  }
 ],
 "metadata": {
  "kernelspec": {
   "display_name": "base",
   "language": "python",
   "name": "python3"
  },
  "language_info": {
   "codemirror_mode": {
    "name": "ipython",
    "version": 3
   },
   "file_extension": ".py",
   "mimetype": "text/x-python",
   "name": "python",
   "nbconvert_exporter": "python",
   "pygments_lexer": "ipython3",
   "version": "3.11.5"
  }
 },
 "nbformat": 4,
 "nbformat_minor": 2
}
