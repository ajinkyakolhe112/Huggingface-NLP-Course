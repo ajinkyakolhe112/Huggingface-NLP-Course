{
 "cells": [
  {
   "cell_type": "markdown",
   "metadata": {},
   "source": [
    "Stages of learning a new Language\n",
    "1. **Learn vocabulary**\n",
    "2. Learn meaning of words\n",
    "3. Learn syntax & grammar rules\n",
    "4. Speak the language\n",
    "\n",
    "Similarly, In Artificial NLP\n",
    "1. **Build vocabulary with `tokenizer`**\n",
    "2. Learn semantic meaning via embedding_value, in model from data\n",
    "3. Learn syntax & grammar rules, in model from data\n",
    "4. Inference"
   ]
  },
  {
   "cell_type": "markdown",
   "metadata": {},
   "source": [
    "## 1. learn vocabulary"
   ]
  },
  {
   "cell_type": "code",
   "execution_count": 1,
   "metadata": {},
   "outputs": [],
   "source": [
    "import transformers\n",
    "\n",
    "tokenizer = transformers.BertTokenizer.from_pretrained(\"bert-base-cased\")\n",
    "tokenizer = transformers.AutoTokenizer.from_pretrained(\"bert-base-cased\")\n",
    "\n",
    "# tokenizer.save_pretrained(\"directory_on_my_computer\")\n",
    "\n",
    "english_sentence_human_readable     = \"run, chocolates are running out\"     # 10 Words English Sentece\n",
    "\n",
    "tokens = tokenizer.tokenize(english_sentence_human_readable)\n",
    "ids    = tokenizer.convert_tokens_to_ids(tokens)\n",
    "\n",
    "decoded_string = tokenizer.decode(ids)"
   ]
  },
  {
   "cell_type": "code",
   "execution_count": null,
   "metadata": {},
   "outputs": [],
   "source": [
    "tokenizer(english_sentence_human_readable)"
   ]
  },
  {
   "cell_type": "code",
   "execution_count": 2,
   "metadata": {},
   "outputs": [
    {
     "data": {
      "text/plain": [
       "(['run', ',', 'chocolate', '##s', 'are', 'running', 'out'],\n",
       " [1576, 117, 8888, 1116, 1132, 1919, 1149],\n",
       " 'run, chocolates are running out')"
      ]
     },
     "execution_count": 2,
     "metadata": {},
     "output_type": "execute_result"
    }
   ],
   "source": [
    "tokens, ids, decoded_string"
   ]
  },
  {
   "cell_type": "markdown",
   "metadata": {},
   "source": [
    "## 2. meaning & embedding"
   ]
  },
  {
   "cell_type": "markdown",
   "metadata": {},
   "source": [
    "**Question**: Write meaning of word Apple & everything apple is connected to according to you. \n",
    "We are going to count, how many different things term \"Apple\" is connected to, in your brain.\n",
    "\n",
    "Example\n",
    "1. Apple fruit\n",
    "2. Apple mac company\n",
    "3. Apple falling on Newton\n",
    "4. Apple of knowledge in Adam & Eve\n",
    "\n",
    "This is extent of my connectivity in brain. But in reality, apple would be connected to many many concepts. Person who has built most connected concepts in their brain, they have most connected & creative brain. "
   ]
  },
  {
   "cell_type": "code",
   "execution_count": null,
   "metadata": {},
   "outputs": [],
   "source": []
  }
 ],
 "metadata": {
  "kernelspec": {
   "display_name": "base",
   "language": "python",
   "name": "python3"
  },
  "language_info": {
   "codemirror_mode": {
    "name": "ipython",
    "version": 3
   },
   "file_extension": ".py",
   "mimetype": "text/x-python",
   "name": "python",
   "nbconvert_exporter": "python",
   "pygments_lexer": "ipython3",
   "version": "3.11.5"
  }
 },
 "nbformat": 4,
 "nbformat_minor": 2
}
