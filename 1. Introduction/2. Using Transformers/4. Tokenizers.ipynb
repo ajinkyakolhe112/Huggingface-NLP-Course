{
 "cells": [
  {
   "cell_type": "markdown",
   "metadata": {},
   "source": [
    "Stages of learning a new Language\n",
    "1. **Learn vocabulary**\n",
    "2. Learn meaning of words\n",
    "3. Learn syntax & grammar rules\n",
    "4. Speak the language\n",
    "\n",
    "Similarly, In Artificial NLP\n",
    "1. **Build vocabulary with `tokenizer`**\n",
    "2. Learn semantic meaning via embedding_value, in model from data\n",
    "3. Learn syntax & grammar rules, in model from data\n",
    "4. Inference"
   ]
  },
  {
   "cell_type": "markdown",
   "metadata": {},
   "source": [
    "## 1. learn vocabulary"
   ]
  },
  {
   "cell_type": "markdown",
   "metadata": {},
   "source": [
    "Manual Methods\n",
    "1. `tokenizer.tokenize()`\n",
    "2. `tokenizer.convert_tokens_to_ids()`\n",
    "3. `tokenizer.decode()`"
   ]
  },
  {
   "cell_type": "code",
   "execution_count": 13,
   "metadata": {},
   "outputs": [
    {
     "name": "stdout",
     "output_type": "stream",
     "text": [
      "sentence into words \t = ['good', 'morning'], \n",
      " numerical mapping \t= [1363, 2106], \n",
      " numbers_to_string \t= good morning\n"
     ]
    }
   ],
   "source": [
    "import transformers\n",
    "\n",
    "tokenizer = transformers.BertTokenizer.from_pretrained(\"bert-base-cased\", model_kwargs= {\"force_download\": True})\n",
    "tokenizer = transformers.AutoTokenizer.from_pretrained(\"bert-base-cased\", model_kwargs= {\"force_download\": True})\n",
    "\n",
    "# tokenizer.save_pretrained(\"directory_on_my_computer\")\n",
    "sentences_to_tokenize = [\n",
    "                            \"good morning\",\n",
    "                            \"hey\",\n",
    "                            \"bye bye\"\n",
    "\n",
    "                    ]\n",
    "\n",
    "tokens          = tokenizer.tokenize(\"good morning\")\n",
    "numeric_ids     = tokenizer.convert_tokens_to_ids(tokens)\n",
    "\n",
    "decoded_string  = tokenizer.decode(numeric_ids)\n",
    "print(f'sentence into words \\t = {tokens}, \\n numerical mapping \\t= {numeric_ids}, \\n numbers_to_string \\t= {decoded_string}')"
   ]
  },
  {
   "cell_type": "code",
   "execution_count": 15,
   "metadata": {},
   "outputs": [
    {
     "data": {
      "text/plain": [
       "'good good'"
      ]
     },
     "execution_count": 15,
     "metadata": {},
     "output_type": "execute_result"
    },
    {
     "data": {
      "text/plain": [
       "'good morning'"
      ]
     },
     "execution_count": 15,
     "metadata": {},
     "output_type": "execute_result"
    },
    {
     "data": {
      "text/plain": [
       "'morning good'"
      ]
     },
     "execution_count": 15,
     "metadata": {},
     "output_type": "execute_result"
    },
    {
     "data": {
      "text/plain": [
       "'morning morning'"
      ]
     },
     "execution_count": 15,
     "metadata": {},
     "output_type": "execute_result"
    }
   ],
   "source": [
    "from IPython.core.interactiveshell import InteractiveShell\n",
    "InteractiveShell.ast_node_interactivity = \"all\"\n",
    "\n",
    "tokenizer.decode([1363, 1363])\n",
    "tokenizer.decode([1363, 2106])\n",
    "tokenizer.decode([2106, 1363])\n",
    "tokenizer.decode([2106, 2106])"
   ]
  },
  {
   "cell_type": "code",
   "execution_count": 21,
   "metadata": {},
   "outputs": [
    {
     "data": {
      "text/plain": [
       "[1363, 2106, 2490]"
      ]
     },
     "execution_count": 21,
     "metadata": {},
     "output_type": "execute_result"
    }
   ],
   "source": [
    "tokenizer.convert_tokens_to_ids (tokenizer.tokenize(\"good morning everyone\") )\n",
    "token_ids = tokenizer(\"good morning everyone\")"
   ]
  },
  {
   "cell_type": "code",
   "execution_count": 26,
   "metadata": {},
   "outputs": [
    {
     "name": "stdout",
     "output_type": "stream",
     "text": [
      "input_ids \t [101, 1363, 2106, 2490, 102]\n",
      "token_type_ids \t [0, 0, 0, 0, 0]\n",
      "attention_mask \t [1, 1, 1, 1, 1]\n"
     ]
    }
   ],
   "source": [
    "for key in token_ids.keys():\n",
    "    print(f'{key} \\t {token_ids[key]}')"
   ]
  },
  {
   "cell_type": "code",
   "execution_count": 32,
   "metadata": {},
   "outputs": [
    {
     "data": {
      "text/plain": [
       "{'input_ids': [[101, 1363, 2106, 102], [101, 23998, 102], [101, 11901, 11901, 102]], 'token_type_ids': [[0, 0, 0, 0], [0, 0, 0], [0, 0, 0, 0]], 'attention_mask': [[1, 1, 1, 1], [1, 1, 1], [1, 1, 1, 1]]}"
      ]
     },
     "execution_count": 32,
     "metadata": {},
     "output_type": "execute_result"
    }
   ],
   "source": [
    "token_ids = tokenizer( sentences_to_tokenize , ) # padding = True, return_tensors = \"pt\")\n",
    "token_ids"
   ]
  },
  {
   "cell_type": "markdown",
   "metadata": {},
   "source": [
    "## 2. meaning & embedding"
   ]
  },
  {
   "cell_type": "code",
   "execution_count": 29,
   "metadata": {},
   "outputs": [],
   "source": [
    "tokenizer = transformers.BertTokenizer().from_pretrained(\"bert-base-cased\")\n",
    "\n",
    "config = transformers.BertConfig()\n",
    "model  = transformers.BertModel(config).from_pretrained(\"bert-base-cased\")"
   ]
  },
  {
   "cell_type": "code",
   "execution_count": 62,
   "metadata": {},
   "outputs": [
    {
     "name": "stdout",
     "output_type": "stream",
     "text": [
      "torch.Size([768])\n"
     ]
    }
   ],
   "source": [
    "word_to_find_meaning_of = \"love\"\n",
    "\n",
    "output = model( ** tokenizer(word_to_find_meaning_of, return_tensors=\"pt\"))\n",
    "\n",
    "print(output['last_hidden_state'][0][1].shape)"
   ]
  },
  {
   "cell_type": "code",
   "execution_count": 55,
   "metadata": {},
   "outputs": [],
   "source": [
    "multiple_sentences = [\"run chocolates are running out\"      # 5 Words English Sentece\n",
    "                    , \"run there is fire in fireplace\"      # 5 Words English Sentece\n",
    "                    , \"run fire is spreading everywhere\" ]    # 5 Words English Sentece"
   ]
  },
  {
   "cell_type": "code",
   "execution_count": 56,
   "metadata": {},
   "outputs": [
    {
     "data": {
      "text/plain": [
       "{'input_ids': [[101, 1576, 8888, 1116, 1132, 1919, 1149, 102], [101, 1576, 1175, 1110, 1783, 1107, 14356, 102], [101, 1576, 1783, 1110, 9243, 7244, 102]], 'token_type_ids': [[0, 0, 0, 0, 0, 0, 0, 0], [0, 0, 0, 0, 0, 0, 0, 0], [0, 0, 0, 0, 0, 0, 0]], 'attention_mask': [[1, 1, 1, 1, 1, 1, 1, 1], [1, 1, 1, 1, 1, 1, 1, 1], [1, 1, 1, 1, 1, 1, 1]]}"
      ]
     },
     "execution_count": 56,
     "metadata": {},
     "output_type": "execute_result"
    }
   ],
   "source": [
    "tokenizer(multiple_sentences)"
   ]
  },
  {
   "cell_type": "code",
   "execution_count": 57,
   "metadata": {},
   "outputs": [
    {
     "data": {
      "text/plain": [
       "BaseModelOutputWithPoolingAndCrossAttentions(last_hidden_state=tensor([[[ 0.0519,  0.2197, -0.0403,  ..., -0.1817,  0.4112,  0.2370],\n",
       "         [-0.4066,  0.0026, -0.2620,  ...,  0.2436,  0.1459,  0.7260],\n",
       "         [ 0.1387,  0.5812, -0.3079,  ...,  0.2926, -0.2427,  0.1734],\n",
       "         ...,\n",
       "         [-0.0060,  0.2973,  0.0996,  ...,  0.2658, -0.1543,  0.2891],\n",
       "         [ 0.3247, -0.1218, -0.0519,  ..., -0.3075,  0.0196, -0.1952],\n",
       "         [ 0.4075,  0.7079, -0.4774,  ..., -0.1876,  0.7815,  0.2002]],\n",
       "\n",
       "        [[ 0.4231, -0.0616,  0.0894,  ..., -0.2049,  0.2449, -0.0174],\n",
       "         [ 0.0146, -0.1424, -0.0914,  ...,  0.1727,  0.6108,  0.2514],\n",
       "         [ 0.4288, -0.3326, -0.0747,  ...,  0.2098,  0.1734,  0.3493],\n",
       "         ...,\n",
       "         [ 0.5546, -0.0634, -0.0182,  ...,  0.4807,  0.0213,  0.0397],\n",
       "         [ 0.5679, -0.2292, -0.2829,  ..., -0.4613,  0.1944,  0.0897],\n",
       "         [ 1.1011, -0.3185, -0.6245,  ..., -0.9427,  0.1989,  0.0950]],\n",
       "\n",
       "        [[ 0.2690,  0.0974, -0.0826,  ..., -0.3255,  0.4185, -0.0637],\n",
       "         [-0.2731, -0.1948,  0.0406,  ...,  0.3729,  0.5580,  0.3220],\n",
       "         [ 0.4733,  0.2257,  0.2021,  ...,  0.2010, -0.3708, -0.1413],\n",
       "         ...,\n",
       "         [ 0.0245, -0.3361,  0.0967,  ..., -0.4624,  0.2362, -0.2558],\n",
       "         [ 0.3467,  0.7737, -0.3417,  ..., -0.4561,  0.5679, -0.5342],\n",
       "         [-0.1165, -0.1490, -0.0596,  ...,  0.2081,  0.4533,  0.1810]]],\n",
       "       grad_fn=<NativeLayerNormBackward0>), pooler_output=tensor([[-0.6650,  0.4887,  0.9998,  ...,  0.9999, -0.8021,  0.9911],\n",
       "        [-0.6631,  0.4240,  0.9999,  ...,  1.0000, -0.6076,  0.9945],\n",
       "        [-0.7098,  0.5197,  0.9999,  ...,  0.9999, -0.7701,  0.9895]],\n",
       "       grad_fn=<TanhBackward0>), hidden_states=None, past_key_values=None, attentions=None, cross_attentions=None)"
      ]
     },
     "execution_count": 57,
     "metadata": {},
     "output_type": "execute_result"
    }
   ],
   "source": [
    "outputs = model ( ** tokenizer ( multiple_sentences , return_tensors = \"pt\", padding=True ) )\n",
    "outputs"
   ]
  }
 ],
 "metadata": {
  "kernelspec": {
   "display_name": "base",
   "language": "python",
   "name": "python3"
  },
  "language_info": {
   "codemirror_mode": {
    "name": "ipython",
    "version": 3
   },
   "file_extension": ".py",
   "mimetype": "text/x-python",
   "name": "python",
   "nbconvert_exporter": "python",
   "pygments_lexer": "ipython3",
   "version": "3.11.5"
  }
 },
 "nbformat": 4,
 "nbformat_minor": 2
}
