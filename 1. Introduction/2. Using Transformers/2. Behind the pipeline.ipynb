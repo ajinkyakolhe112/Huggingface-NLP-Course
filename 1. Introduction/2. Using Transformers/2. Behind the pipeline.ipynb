{
 "cells": [
  {
   "cell_type": "markdown",
   "metadata": {},
   "source": [
    "# Outline"
   ]
  },
  {
   "cell_type": "code",
   "execution_count": 47,
   "metadata": {},
   "outputs": [
    {
     "name": "stderr",
     "output_type": "stream",
     "text": [
      "No model was supplied, defaulted to distilbert-base-uncased-finetuned-sst-2-english and revision af0f99b (https://huggingface.co/distilbert-base-uncased-finetuned-sst-2-english).\n",
      "Using a pipeline without specifying a model name and revision in production is not recommended.\n"
     ]
    },
    {
     "data": {
      "text/plain": [
       "[{'label': 'POSITIVE', 'score': 0.9598050713539124},\n",
       " {'label': 'NEGATIVE', 'score': 0.9994558691978455}]"
      ]
     },
     "execution_count": 47,
     "metadata": {},
     "output_type": "execute_result"
    }
   ],
   "source": [
    "import torch\n",
    "import transformers\n",
    "\n",
    "classifier = transformers.pipeline(\"sentiment-analysis\")\n",
    "classifier(\n",
    "    [\n",
    "        \"I've been waiting for a HuggingFace course my whole life.\",\n",
    "        \"I hate this so much!\",\n",
    "    ]\n",
    ")"
   ]
  },
  {
   "cell_type": "markdown",
   "metadata": {},
   "source": [
    "# Behind the Pipeline API\n",
    "\n",
    "4 Stage Pipeline\n",
    "1. dataset\n",
    "2. language tokenizer\n",
    "3. pretrained_model\n",
    "4. model output\n",
    "![](https://huggingface.co/datasets/huggingface-course/documentation-images/resolve/main/en/chapter2/full_nlp_pipeline.svg)"
   ]
  },
  {
   "cell_type": "markdown",
   "metadata": {},
   "source": [
    "## 1. initialize tokenizer & model"
   ]
  },
  {
   "cell_type": "code",
   "execution_count": 48,
   "metadata": {},
   "outputs": [],
   "source": [
    "raw_inputs = [\n",
    "    \"I love you so much\",   # 5 Words\n",
    "    \"I hate you\",            # 2 Words\n",
    "    \"hi\",\n",
    "]"
   ]
  },
  {
   "cell_type": "code",
   "execution_count": 49,
   "metadata": {},
   "outputs": [
    {
     "name": "stdout",
     "output_type": "stream",
     "text": [
      "tensor([[  101,   146,  1567,  1128,  1177,  1277,   102],\n",
      "        [  101,   146,  4819,  1128,   102,     0,     0],\n",
      "        [  101, 20844,   102,     0,     0,     0,     0]])\n"
     ]
    }
   ],
   "source": [
    "tokenizer        = transformers. AutoTokenizer. from_pretrained(\"bert-base-cased\")\n",
    "tokenized_output = tokenizer(raw_inputs , padding=True , return_tensors=\"pt\")    # Numeric ids => as PYTORCH TENSORS\n",
    "\n",
    "print(tokenized_output['input_ids'])"
   ]
  },
  {
   "cell_type": "code",
   "execution_count": 50,
   "metadata": {},
   "outputs": [
    {
     "name": "stdout",
     "output_type": "stream",
     "text": [
      "tokenizer returns multiple things things => dict_keys(['input_ids', 'token_type_ids', 'attention_mask'])\n",
      "Row Number => 1, \n",
      "\t input_ids \t=> tensor([ 101,  146, 1567, 1128, 1177, 1277,  102]), \n",
      "\t attention_mask => tensor([1, 1, 1, 1, 1, 1, 1])\n",
      "Row Number => 2, \n",
      "\t input_ids \t=> tensor([ 101,  146, 4819, 1128,  102,    0,    0]), \n",
      "\t attention_mask => tensor([1, 1, 1, 1, 1, 0, 0])\n",
      "Row Number => 3, \n",
      "\t input_ids \t=> tensor([  101, 20844,   102,     0,     0,     0,     0]), \n",
      "\t attention_mask => tensor([1, 1, 1, 0, 0, 0, 0])\n"
     ]
    }
   ],
   "source": [
    "print(f'tokenizer returns multiple things things => {tokenized_output.keys()}')\n",
    "\n",
    "index = 0\n",
    "while index < len(tokenized_output['input_ids']):\n",
    "    print(f\"Row Number => {index+1}, \\n\\t input_ids \\t=> { tokenized_output['input_ids'][index]}, \\n\\t attention_mask => {tokenized_output['attention_mask'][index]}\")\n",
    "    index = index + 1"
   ]
  },
  {
   "cell_type": "markdown",
   "metadata": {},
   "source": [
    "## 2. model"
   ]
  },
  {
   "cell_type": "code",
   "execution_count": 51,
   "metadata": {},
   "outputs": [
    {
     "name": "stderr",
     "output_type": "stream",
     "text": [
      "Some weights of BertForSequenceClassification were not initialized from the model checkpoint at bert-base-cased and are newly initialized: ['classifier.weight', 'classifier.bias']\n",
      "You should probably TRAIN this model on a down-stream task to be able to use it for predictions and inference.\n"
     ]
    }
   ],
   "source": [
    "model_general         = transformers. AutoModel.                         from_pretrained(\"bert-base-cased\")\n",
    "model_classification  = transformers. AutoModelForSequenceClassification.from_pretrained(\"bert-base-cased\")"
   ]
  },
  {
   "cell_type": "code",
   "execution_count": 52,
   "metadata": {},
   "outputs": [
    {
     "name": "stdout",
     "output_type": "stream",
     "text": [
      "Model OUTPUT: SequenceClassifierOutput(loss=None, logits=tensor([[-0.2201, -0.0825],\n",
      "        [-0.2946, -0.1323],\n",
      "        [-0.2332, -0.0325]], grad_fn=<AddmmBackward0>), hidden_states=None, attentions=None) \n"
     ]
    }
   ],
   "source": [
    "classification_output = model_classification( **tokenized_output )\n",
    "\n",
    "print(f'Model OUTPUT: {classification_output} ' )"
   ]
  },
  {
   "cell_type": "markdown",
   "metadata": {},
   "source": [
    "## 3. model output"
   ]
  },
  {
   "cell_type": "code",
   "execution_count": 53,
   "metadata": {},
   "outputs": [
    {
     "name": "stdout",
     "output_type": "stream",
     "text": [
      "tensor([[0.4656, 0.5344],\n",
      "        [0.4595, 0.5405],\n",
      "        [0.4500, 0.5500]], grad_fn=<SoftmaxBackward0>)\n"
     ]
    }
   ],
   "source": [
    "predictions = torch.nn.functional.softmax(classification_output.logits, dim=-1)\n",
    "print(predictions)"
   ]
  },
  {
   "cell_type": "markdown",
   "metadata": {},
   "source": [
    "# Complete Pipeline"
   ]
  },
  {
   "cell_type": "code",
   "execution_count": 54,
   "metadata": {},
   "outputs": [
    {
     "name": "stderr",
     "output_type": "stream",
     "text": [
      "Some weights of BertForSequenceClassification were not initialized from the model checkpoint at bert-base-cased and are newly initialized: ['classifier.weight', 'classifier.bias']\n",
      "You should probably TRAIN this model on a down-stream task to be able to use it for predictions and inference.\n"
     ]
    },
    {
     "name": "stdout",
     "output_type": "stream",
     "text": [
      "tensor([[ 0.0203,  0.9130],\n",
      "        [-0.0072,  0.9640]], grad_fn=<AddmmBackward0>)\n",
      "tensor([[0.2905, 0.7095],\n",
      "        [0.2747, 0.7253]], grad_fn=<SoftmaxBackward0>)\n",
      "{0: 'LABEL_0', 1: 'LABEL_1'}\n"
     ]
    }
   ],
   "source": [
    "import torch\n",
    "import transformers\n",
    "\n",
    "checkpoint = \"bert-base-cased\"\n",
    "tokenizer  = transformers.AutoTokenizer.from_pretrained(checkpoint)\n",
    "model      = transformers.AutoModelForSequenceClassification.from_pretrained(checkpoint)"
   ]
  },
  {
   "cell_type": "code",
   "execution_count": null,
   "metadata": {},
   "outputs": [],
   "source": [
    "raw_inputs = [\n",
    "    \"I love you so much\",   # 5 Words\n",
    "    \"screw you\",            # 2 Words\n",
    "]\n",
    "numeric_ids = tokenizer(raw_inputs , padding=True , return_tensors=\"pt\")    # Numeric ids => as PYTORCH TENSORS\n",
    "\n",
    "outputs = model(**numeric_ids)\n",
    "\n",
    "print(outputs.logits)\n",
    "predictions = torch.nn.functional.softmax(outputs.logits, dim=-1)\n",
    "print(predictions)\n",
    "\n",
    "print(model.config.id2label)"
   ]
  }
 ],
 "metadata": {
  "kernelspec": {
   "display_name": "base",
   "language": "python",
   "name": "python3"
  },
  "language_info": {
   "codemirror_mode": {
    "name": "ipython",
    "version": 3
   },
   "file_extension": ".py",
   "mimetype": "text/x-python",
   "name": "python",
   "nbconvert_exporter": "python",
   "pygments_lexer": "ipython3",
   "version": "3.11.5"
  }
 },
 "nbformat": 4,
 "nbformat_minor": 2
}
