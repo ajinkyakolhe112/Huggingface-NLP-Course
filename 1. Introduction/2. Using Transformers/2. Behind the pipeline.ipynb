{
 "cells": [
  {
   "cell_type": "markdown",
   "metadata": {},
   "source": [
    "# Outline"
   ]
  },
  {
   "cell_type": "code",
   "execution_count": null,
   "metadata": {},
   "outputs": [],
   "source": [
    "import torch\n",
    "import transformers\n",
    "\n",
    "classifier = transformers.pipeline(\"sentiment-analysis\")\n",
    "classifier(\n",
    "    [\n",
    "        \"I've been waiting for a HuggingFace course my whole life.\",\n",
    "        \"I hate this so much!\",\n",
    "    ]\n",
    ")"
   ]
  },
  {
   "cell_type": "markdown",
   "metadata": {},
   "source": [
    "# Behind the Pipeline API\n",
    "\n",
    "4 Stage Pipeline\n",
    "1. dataset\n",
    "2. language tokenizer\n",
    "3. pretrained_model\n",
    "4. model output\n",
    "![](https://huggingface.co/datasets/huggingface-course/documentation-images/resolve/main/en/chapter2/full_nlp_pipeline.svg)"
   ]
  },
  {
   "cell_type": "markdown",
   "metadata": {},
   "source": [
    "## 1. initialize tokenizer & model"
   ]
  },
  {
   "cell_type": "code",
   "execution_count": null,
   "metadata": {},
   "outputs": [],
   "source": [
    "raw_inputs = [\n",
    "    \"I love you so much\",   # 5 Words\n",
    "    \"screw you\",            # 2 Words\n",
    "]"
   ]
  },
  {
   "cell_type": "code",
   "execution_count": null,
   "metadata": {},
   "outputs": [],
   "source": [
    "import transformers\n",
    "\n",
    "tokenizer             = transformers. AutoTokenizer.                     from_pretrained(\"bert-base-cased\")\n",
    "\n",
    "model_general         = transformers. AutoModel.                         from_pretrained(\"bert-base-cased\")\n",
    "model_classification  = transformers. AutoModelForSequenceClassification.from_pretrained(\"bert-base-cased\")"
   ]
  },
  {
   "cell_type": "markdown",
   "metadata": {},
   "source": [
    "## 2. tokenizer & input to model"
   ]
  },
  {
   "cell_type": "code",
   "execution_count": null,
   "metadata": {},
   "outputs": [],
   "source": [
    "tokenized_output = tokenizer(raw_inputs , padding=True , return_tensors=\"pt\")    # Numeric ids => as PYTORCH TENSORS\n",
    "\n",
    "print(tokenized_output['input_ids'])"
   ]
  },
  {
   "cell_type": "code",
   "execution_count": null,
   "metadata": {},
   "outputs": [],
   "source": [
    "print(f'tokenizer returns multiple things things => {tokenized_output.keys()}')\n",
    "\n",
    "index = 0\n",
    "while index < len(tokenized_output['input_ids']):\n",
    "    print(f\"Row Number => {index+1}, \\n\\t input_ids \\t=> { tokenized_output['input_ids'][index]}, \\n\\t attention_mask => {tokenized_output['attention_mask'][index]}\")\n",
    "    index = index + 1"
   ]
  },
  {
   "cell_type": "markdown",
   "metadata": {},
   "source": [
    "## 3. model output"
   ]
  },
  {
   "cell_type": "code",
   "execution_count": null,
   "metadata": {},
   "outputs": [],
   "source": [
    "classification_output = model_classification( **tokenized_output )\n",
    "print(f'Model OUTPUT: {classification_output} ' )"
   ]
  },
  {
   "cell_type": "code",
   "execution_count": null,
   "metadata": {},
   "outputs": [],
   "source": [
    "predictions = torch.nn.functional.softmax(classification_output.logits, dim=-1)\n",
    "print(predictions)"
   ]
  },
  {
   "cell_type": "markdown",
   "metadata": {},
   "source": [
    "# Complete Pipeline"
   ]
  },
  {
   "cell_type": "code",
   "execution_count": null,
   "metadata": {},
   "outputs": [],
   "source": [
    "import torch\n",
    "\n",
    "from transformers import AutoModelForSequenceClassification\n",
    "\n",
    "checkpoint = \"bert-base-cased\"\n",
    "tokenizer  = transformers.AutoTokenizer.from_pretrained(checkpoint)\n",
    "model      = AutoModelForSequenceClassification.from_pretrained(checkpoint)\n",
    "\n",
    "raw_inputs = [\n",
    "    \"I love you so much\",   # 5 Words\n",
    "    \"screw you\",            # 2 Words\n",
    "]\n",
    "numeric_ids = tokenizer(raw_inputs , padding=True , return_tensors=\"pt\")    # Numeric ids => as PYTORCH TENSORS\n",
    "\n",
    "outputs = model(**numeric_ids)\n",
    "\n",
    "print(outputs.logits)\n",
    "predictions = torch.nn.functional.softmax(outputs.logits, dim=-1)\n",
    "print(predictions)\n",
    "\n",
    "print(model.config.id2label)"
   ]
  }
 ],
 "metadata": {
  "kernelspec": {
   "display_name": "base",
   "language": "python",
   "name": "python3"
  },
  "language_info": {
   "codemirror_mode": {
    "name": "ipython",
    "version": 3
   },
   "file_extension": ".py",
   "mimetype": "text/x-python",
   "name": "python",
   "nbconvert_exporter": "python",
   "pygments_lexer": "ipython3",
   "version": "3.11.5"
  }
 },
 "nbformat": 4,
 "nbformat_minor": 2
}
