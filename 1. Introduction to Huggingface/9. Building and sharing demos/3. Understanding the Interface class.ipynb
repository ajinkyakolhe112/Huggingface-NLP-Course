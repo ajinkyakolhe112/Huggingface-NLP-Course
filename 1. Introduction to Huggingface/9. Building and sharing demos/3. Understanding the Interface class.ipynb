{
 "cells": [
  {
   "cell_type": "markdown",
   "metadata": {},
   "source": [
    "Gradio updates are awesome. Always check it's documentation to see latest features\n"
   ]
  },
  {
   "cell_type": "code",
   "execution_count": null,
   "metadata": {},
   "outputs": [],
   "source": [
    "from transformers import pipeline\n",
    "import gradio as gr\n",
    "\n",
    "model = pipeline(\"automatic-speech-recognition\")\n",
    "\n",
    "\n",
    "def transcribe_audio(mic=None, file=None):\n",
    "    if mic is not None:\n",
    "        audio = mic\n",
    "    elif file is not None:\n",
    "        audio = file\n",
    "    else:\n",
    "        return \"You must either provide a mic recording or a file\"\n",
    "    transcription = model(audio)[\"text\"]\n",
    "    return transcription\n",
    "\n",
    "\n",
    "gr.Interface(\n",
    "    fn      =       transcribe_audio,\n",
    "    inputs  =       [\n",
    "                    gr.Audio(sources=\"microphone\", type=\"filepath\"),\n",
    "                    gr.Audio(sources=\"upload\", type=\"filepath\"),\n",
    "                    ],\n",
    "    outputs =       \"text\",\n",
    ").launch()"
   ]
  },
  {
   "cell_type": "code",
   "execution_count": null,
   "metadata": {},
   "outputs": [],
   "source": []
  }
 ],
 "metadata": {
  "kernelspec": {
   "display_name": "base",
   "language": "python",
   "name": "python3"
  },
  "language_info": {
   "codemirror_mode": {
    "name": "ipython",
    "version": 3
   },
   "file_extension": ".py",
   "mimetype": "text/x-python",
   "name": "python",
   "nbconvert_exporter": "python",
   "pygments_lexer": "ipython3",
   "version": "3.11.5"
  }
 },
 "nbformat": 4,
 "nbformat_minor": 2
}
